{
  "nbformat": 4,
  "nbformat_minor": 0,
  "metadata": {
    "colab": {
      "provenance": [],
      "authorship_tag": "ABX9TyOI1M+VT9qs7usi6xZhSzV4",
      "include_colab_link": true
    },
    "kernelspec": {
      "name": "python3",
      "display_name": "Python 3"
    },
    "language_info": {
      "name": "python"
    }
  },
  "cells": [
    {
      "cell_type": "markdown",
      "metadata": {
        "id": "view-in-github",
        "colab_type": "text"
      },
      "source": [
        "<a href=\"https://colab.research.google.com/github/dnaae/spot_detection_/blob/splitting-channels/channel_splitting.ipynb\" target=\"_parent\"><img src=\"https://colab.research.google.com/assets/colab-badge.svg\" alt=\"Open In Colab\"/></a>"
      ]
    },
    {
      "cell_type": "markdown",
      "source": [
        "**Corrections **\n",
        "incorporate code in main (maybe not necessary)"
      ],
      "metadata": {
        "id": "OmbSMn7AotQb"
      }
    },
    {
      "cell_type": "code",
      "source": [
        "#Imports\n",
        "import os\n",
        "import numpy as np\n",
        "import tifffile as tiff\n",
        "from google.colab import drive"
      ],
      "metadata": {
        "id": "ITke9SaMqbZY"
      },
      "execution_count": 1,
      "outputs": []
    },
    {
      "cell_type": "code",
      "source": [
        "# Mount Google Drive\n",
        "drive.mount('/content/drive')\n",
        "# Specify the top-level folder in your Google Drive\n",
        "drive_folder = \"/content/drive/MyDrive/\""
      ],
      "metadata": {
        "colab": {
          "base_uri": "https://localhost:8080/"
        },
        "id": "gQ76_Bexsilf",
        "outputId": "045b7d0b-f672-4e4b-fd7b-ada1e10b2cc4"
      },
      "execution_count": 2,
      "outputs": [
        {
          "output_type": "stream",
          "name": "stdout",
          "text": [
            "Mounted at /content/drive\n"
          ]
        }
      ]
    },
    {
      "cell_type": "code",
      "source": [
        "#Function to interactively select treatment folder\n",
        "def input_folder_interactive():\n",
        "  # List contents of the drive_folder\n",
        "  contents = os.listdir(drive_folder)\n",
        "  # Print contents and ask the user to select a folder\n",
        "  print(\"Contents of your Google Drive:\")\n",
        "  for i, item in enumerate(contents):\n",
        "      print(f\"{i + 1}: {item}\")\n",
        "  try:\n",
        "      choice = int(input(\"Enter the number of the folder you want to select: \"))\n",
        "      if 1 <= choice <= len(contents):\n",
        "          selected_folder = os.path.join(drive_folder, contents[choice - 1])\n",
        "          return selected_folder\n",
        "      else:\n",
        "          print(\"Invalid choice. Exiting.\")\n",
        "          return None\n",
        "  except ValueError:\n",
        "      print(\"Invalid input. Exiting.\")\n",
        "      return None"
      ],
      "metadata": {
        "id": "yQxwqz_PpR-p"
      },
      "execution_count": 3,
      "outputs": []
    },
    {
      "cell_type": "code",
      "source": [
        "# Function to split channels and save as separate TIFF files\n",
        "def split_and_save_channels(input_folder, output_folder):\n",
        "    # List all image files in the input folder\n",
        "    image_files = [f for f in os.listdir(input_folder) if f.endswith(\".tif\")]\n",
        "\n",
        "    for image_file in image_files:\n",
        "        image_path = os.path.join(input_folder, image_file)\n",
        "\n",
        "        # Load the image using tifffile\n",
        "        image = tiff.imread(image_path)  # Load 3D image stack\n",
        "\n",
        "        # Transpose the image dimensions to match the expected shape\n",
        "        image = np.transpose(image, (1, 0, 2, 3))\n",
        "\n",
        "        # Ensure that there are exactly 2 channels and 15 slices in the stack\n",
        "        if image.shape != (2, 15, image.shape[2], image.shape[3]):\n",
        "            print(f\"Unsupported image shape: {image.shape}. Skipping {image_file}\")\n",
        "            continue\n",
        "\n",
        "        # Save each channel as a separate TIFF file using tifffile\n",
        "        for channel_idx in range(image.shape[0]):\n",
        "            channel_volume = image[channel_idx, :, :, :]\n",
        "            channel_name = f\"{image_file}_C{channel_idx + 1}\"\n",
        "\n",
        "            # Save the channel as a separate TIFF file using tifffile\n",
        "            tiff.imsave(os.path.join(output_folder, f\"{channel_name}.tif\"), channel_volume)\n"
      ],
      "metadata": {
        "id": "cUzZE2qvBEba"
      },
      "execution_count": 4,
      "outputs": []
    },
    {
      "cell_type": "code",
      "source": [
        "if __name__ == \"__main__\":\n",
        "    # Allow the user to choose a folder interactively in Google Colab\n",
        "    path_input = input_folder_interactive()\n",
        "    if path_input:\n",
        "        print(f\"Selected folder: {path_input}\")\n",
        "        # Create the output folder path by joining the input folder path with \"output\"\n",
        "        path_output = os.path.join(path_input, \"output\")\n",
        "        os.makedirs(path_output, exist_ok=True)  # Create the folder if it doesn't exist\n",
        "        print(f\"Output folder created: {path_output}\")\n",
        "\n",
        "        # Split channels and save as separate files\n",
        "        split_and_save_channels(path_input, path_output)\n"
      ],
      "metadata": {
        "colab": {
          "base_uri": "https://localhost:8080/"
        },
        "id": "yTPLIBJCquwK",
        "outputId": "8bd3912c-d1e6-4e6c-fa20-5225caac308a"
      },
      "execution_count": 6,
      "outputs": [
        {
          "output_type": "stream",
          "name": "stdout",
          "text": [
            "Contents of your Google Drive:\n",
            "1: CV - D_Mitsea.pdf\n",
            "2: Colab Notebooks\n",
            "3: rf_final(1).ipynb\n",
            "4: Random Forest 7_05.ipynb\n",
            "5: Classroom\n",
            "6: split channels.ijm\n",
            "7: NOTEBOOK_6.cell extraction.ipynb\n",
            "8: CPTH2\n",
            "9: 5-AZA\n",
            "10: DMSO\n",
            "Enter the number of the folder you want to select: 10\n",
            "Selected folder: /content/drive/MyDrive/DMSO\n",
            "Output folder created: /content/drive/MyDrive/DMSO/output\n"
          ]
        },
        {
          "output_type": "stream",
          "name": "stderr",
          "text": [
            "<ipython-input-4-2bbb03121bb1>:26: DeprecationWarning: <tifffile.imsave> is deprecated. Use tifffile.imwrite\n",
            "  tiff.imsave(os.path.join(output_folder, f\"{channel_name}.tif\"), channel_volume)\n"
          ]
        }
      ]
    }
  ]
}