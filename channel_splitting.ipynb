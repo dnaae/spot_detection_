{
  "nbformat": 4,
  "nbformat_minor": 0,
  "metadata": {
    "colab": {
      "provenance": [],
      "authorship_tag": "ABX9TyPt3NaKbghufgiuJIZYt4At",
      "include_colab_link": true
    },
    "kernelspec": {
      "name": "python3",
      "display_name": "Python 3"
    },
    "language_info": {
      "name": "python"
    }
  },
  "cells": [
    {
      "cell_type": "markdown",
      "metadata": {
        "id": "view-in-github",
        "colab_type": "text"
      },
      "source": [
        "<a href=\"https://colab.research.google.com/github/dnaae/spot_detection_/blob/splitting-channels/channel_splitting.ipynb\" target=\"_parent\"><img src=\"https://colab.research.google.com/assets/colab-badge.svg\" alt=\"Open In Colab\"/></a>"
      ]
    },
    {
      "cell_type": "markdown",
      "source": [
        "**Corrections **\n",
        "incorporate code in main (maybe not necessary)"
      ],
      "metadata": {
        "id": "OmbSMn7AotQb"
      }
    },
    {
      "cell_type": "code",
      "source": [
        "#imports\n",
        "import os\n",
        "import numpy as np\n",
        "import tifffile as tiff\n",
        "from google.colab import drive"
      ],
      "metadata": {
        "id": "ITke9SaMqbZY"
      },
      "execution_count": 8,
      "outputs": []
    },
    {
      "cell_type": "code",
      "source": [
        "# Mount Google Drive\n",
        "drive.mount('/content/drive')\n",
        "# Specify the top-level folder in your Google Drive\n",
        "drive_folder = \"/content/drive/MyDrive/\""
      ],
      "metadata": {
        "colab": {
          "base_uri": "https://localhost:8080/"
        },
        "id": "gQ76_Bexsilf",
        "outputId": "adbcd99f-daca-4e40-ca96-83d1d79fdea4"
      },
      "execution_count": 25,
      "outputs": [
        {
          "output_type": "stream",
          "name": "stdout",
          "text": [
            "Drive already mounted at /content/drive; to attempt to forcibly remount, call drive.mount(\"/content/drive\", force_remount=True).\n"
          ]
        }
      ]
    },
    {
      "cell_type": "code",
      "source": [
        "#function to interactively select treatment folder\n",
        "def input_folder_interactive():\n",
        "  # List the contents of the drive_folder\n",
        "  contents = os.listdir(drive_folder)\n",
        "  # Print the contents and ask the user to select a folder\n",
        "  print(\"Contents of your Google Drive:\")\n",
        "  for i, item in enumerate(contents):\n",
        "      print(f\"{i + 1}: {item}\")\n",
        "  try:\n",
        "      choice = int(input(\"Enter the number of the folder you want to select: \"))\n",
        "      if 1 <= choice <= len(contents):\n",
        "          selected_folder = os.path.join(drive_folder, contents[choice - 1])\n",
        "          return selected_folder\n",
        "      else:\n",
        "          print(\"Invalid choice. Exiting.\")\n",
        "          return None\n",
        "  except ValueError:\n",
        "      print(\"Invalid input. Exiting.\")\n",
        "      return None"
      ],
      "metadata": {
        "id": "yQxwqz_PpR-p"
      },
      "execution_count": 21,
      "outputs": []
    },
    {
      "cell_type": "code",
      "source": [
        "# function to split channels and save as separate TIFF files\n",
        "def split_and_save_channels(input_folder, output_folder):\n",
        "    # List all image files in the input folder\n",
        "    image_files = [f for f in os.listdir(input_folder) if f.endswith(\".tif\")]\n",
        "\n",
        "    for image_file in image_files:\n",
        "        image_path = os.path.join(input_folder, image_file)\n",
        "\n",
        "        # Load the image using tifffile\n",
        "        image = tiff.imread(image_path)  # Load 3D image stack\n",
        "\n",
        "        # Transpose the image dimensions to match the expected shape\n",
        "        image = np.transpose(image, (1, 0, 2, 3))\n",
        "\n",
        "        # Ensure that there are exactly 2 channels and 15 slices in the stack\n",
        "        if image.shape != (2, 15, image.shape[2], image.shape[3]):\n",
        "            print(f\"Unsupported image shape: {image.shape}. Skipping {image_file}\")\n",
        "            continue\n",
        "\n",
        "        # Save each channel as a separate TIFF file using tifffile\n",
        "        for channel_idx in range(image.shape[0]):\n",
        "            channel_volume = image[channel_idx, :, :, :]\n",
        "            channel_name = f\"{image_file}_C{channel_idx + 1}\"\n",
        "\n",
        "            # Save the channel as a separate TIFF file using tifffile\n",
        "            tiff.imsave(os.path.join(output_folder, f\"{channel_name}.tif\"), channel_volume)"
      ],
      "metadata": {
        "id": "cUzZE2qvBEba"
      },
      "execution_count": 22,
      "outputs": []
    },
    {
      "cell_type": "code",
      "source": [
        "if __name__ == \"__main__\":\n",
        "    # Allow the user to choose a folder interactively in Google Colab\n",
        "    path_input = input_folder_interactive()\n",
        "    if path_input:\n",
        "        print(f\"Selected folder: {path_input}\")\n",
        "        # Create the output folder path by joining the input folder path with \"_output\"\n",
        "        path_output = os.path.join(path_input, \"output\")\n",
        "\n",
        "        os.makedirs(path_output, exist_ok=True)  # Create the folder if it doesn't exist\n",
        "        print(f\"Output folder created: {path_output}\")\n",
        "\n",
        "        # Split channels and save as separate files\n",
        "        split_and_save_channels(path_input, path_output)\n"
      ],
      "metadata": {
        "colab": {
          "base_uri": "https://localhost:8080/"
        },
        "id": "yTPLIBJCquwK",
        "outputId": "b8df4a19-2ed3-4e5d-df02-43eaae318da3"
      },
      "execution_count": 24,
      "outputs": [
        {
          "output_type": "stream",
          "name": "stdout",
          "text": [
            "Contents of your Google Drive:\n",
            "1: Danai-Angeliki-Mitsea-Module-3-Quiz-Module-3-Certificate-EFNA.pdf\n",
            "2: EFNA.pdf\n",
            "3: MHUUJJFOME.pdf\n",
            "4: IMG_5354.JPG\n",
            "5: IMG_5355.JPG\n",
            "6: CV - D_Mitsea.pdf\n",
            "7: Colab Notebooks\n",
            "8: rf_final(1).ipynb\n",
            "9: Random Forest 7_05.ipynb\n",
            "10: Classroom\n",
            "11: split channels.ijm\n",
            "12: THESIS\n",
            "13: DMSO\n",
            "14: TSA\n",
            "15: CPTH2 copy\n",
            "16: JQ1\n",
            "17: NOTEBOOK_6.cell extraction.ipynb\n",
            "Enter the number of the folder you want to select: 15\n",
            "Selected folder: /content/drive/MyDrive/CPTH2 copy\n",
            "Output folder created: /content/drive/MyDrive/CPTH2 copy/output\n"
          ]
        },
        {
          "output_type": "stream",
          "name": "stderr",
          "text": [
            "<ipython-input-22-e06c3e9e883a>:26: DeprecationWarning: <tifffile.imsave> is deprecated. Use tifffile.imwrite\n",
            "  tiff.imsave(os.path.join(output_folder, f\"{channel_name}.tif\"), channel_volume)\n"
          ]
        }
      ]
    }
  ]
}