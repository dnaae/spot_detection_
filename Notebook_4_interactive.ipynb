{
  "nbformat": 4,
  "nbformat_minor": 0,
  "metadata": {
    "colab": {
      "provenance": [],
      "authorship_tag": "ABX9TyObrcUouPc7T1eTKNK07GLS",
      "include_colab_link": true
    },
    "kernelspec": {
      "name": "python3",
      "display_name": "Python 3"
    },
    "language_info": {
      "name": "python"
    }
  },
  "cells": [
    {
      "cell_type": "markdown",
      "metadata": {
        "id": "view-in-github",
        "colab_type": "text"
      },
      "source": [
        "<a href=\"https://colab.research.google.com/github/dnaae/spot_detection_/blob/cell-%26-nuclei-segmentation/Notebook_4_interactive.ipynb\" target=\"_parent\"><img src=\"https://colab.research.google.com/assets/colab-badge.svg\" alt=\"Open In Colab\"/></a>"
      ]
    },
    {
      "cell_type": "code",
      "source": [
        "!pip install big-fish"
      ],
      "metadata": {
        "colab": {
          "base_uri": "https://localhost:8080/"
        },
        "id": "_Vbjq1Adv6qa",
        "outputId": "83c4fa25-984b-47e3-be64-aad1305653f0"
      },
      "execution_count": 44,
      "outputs": [
        {
          "output_type": "stream",
          "name": "stdout",
          "text": [
            "Requirement already satisfied: big-fish in /usr/local/lib/python3.10/dist-packages (0.6.2)\n",
            "Requirement already satisfied: numpy>=1.16.0 in /usr/local/lib/python3.10/dist-packages (from big-fish) (1.23.5)\n",
            "Requirement already satisfied: scikit-learn>=0.24.0 in /usr/local/lib/python3.10/dist-packages (from big-fish) (1.2.2)\n",
            "Requirement already satisfied: scikit-image>=0.14.2 in /usr/local/lib/python3.10/dist-packages (from big-fish) (0.19.3)\n",
            "Requirement already satisfied: scipy>=1.4.1 in /usr/local/lib/python3.10/dist-packages (from big-fish) (1.11.3)\n",
            "Requirement already satisfied: matplotlib>=3.0.2 in /usr/local/lib/python3.10/dist-packages (from big-fish) (3.7.1)\n",
            "Requirement already satisfied: pandas>=0.24.0 in /usr/local/lib/python3.10/dist-packages (from big-fish) (1.5.3)\n",
            "Requirement already satisfied: mrc>=0.1.5 in /usr/local/lib/python3.10/dist-packages (from big-fish) (0.3.1)\n",
            "Requirement already satisfied: contourpy>=1.0.1 in /usr/local/lib/python3.10/dist-packages (from matplotlib>=3.0.2->big-fish) (1.1.1)\n",
            "Requirement already satisfied: cycler>=0.10 in /usr/local/lib/python3.10/dist-packages (from matplotlib>=3.0.2->big-fish) (0.12.1)\n",
            "Requirement already satisfied: fonttools>=4.22.0 in /usr/local/lib/python3.10/dist-packages (from matplotlib>=3.0.2->big-fish) (4.43.1)\n",
            "Requirement already satisfied: kiwisolver>=1.0.1 in /usr/local/lib/python3.10/dist-packages (from matplotlib>=3.0.2->big-fish) (1.4.5)\n",
            "Requirement already satisfied: packaging>=20.0 in /usr/local/lib/python3.10/dist-packages (from matplotlib>=3.0.2->big-fish) (23.2)\n",
            "Requirement already satisfied: pillow>=6.2.0 in /usr/local/lib/python3.10/dist-packages (from matplotlib>=3.0.2->big-fish) (9.4.0)\n",
            "Requirement already satisfied: pyparsing>=2.3.1 in /usr/local/lib/python3.10/dist-packages (from matplotlib>=3.0.2->big-fish) (3.1.1)\n",
            "Requirement already satisfied: python-dateutil>=2.7 in /usr/local/lib/python3.10/dist-packages (from matplotlib>=3.0.2->big-fish) (2.8.2)\n",
            "Requirement already satisfied: pytz>=2020.1 in /usr/local/lib/python3.10/dist-packages (from pandas>=0.24.0->big-fish) (2023.3.post1)\n",
            "Requirement already satisfied: networkx>=2.2 in /usr/local/lib/python3.10/dist-packages (from scikit-image>=0.14.2->big-fish) (3.2)\n",
            "Requirement already satisfied: imageio>=2.4.1 in /usr/local/lib/python3.10/dist-packages (from scikit-image>=0.14.2->big-fish) (2.31.6)\n",
            "Requirement already satisfied: tifffile>=2019.7.26 in /usr/local/lib/python3.10/dist-packages (from scikit-image>=0.14.2->big-fish) (2023.9.26)\n",
            "Requirement already satisfied: PyWavelets>=1.1.1 in /usr/local/lib/python3.10/dist-packages (from scikit-image>=0.14.2->big-fish) (1.4.1)\n",
            "Requirement already satisfied: joblib>=1.1.1 in /usr/local/lib/python3.10/dist-packages (from scikit-learn>=0.24.0->big-fish) (1.3.2)\n",
            "Requirement already satisfied: threadpoolctl>=2.0.0 in /usr/local/lib/python3.10/dist-packages (from scikit-learn>=0.24.0->big-fish) (3.2.0)\n",
            "Requirement already satisfied: six>=1.5 in /usr/local/lib/python3.10/dist-packages (from python-dateutil>=2.7->matplotlib>=3.0.2->big-fish) (1.16.0)\n"
          ]
        }
      ]
    },
    {
      "cell_type": "code",
      "source": [
        "#imports\n",
        "import os\n",
        "import bigfish.stack as stack\n",
        "import bigfish.segmentation as segmentation\n",
        "import bigfish.plot as plot\n",
        "import bigfish.multistack as multistack\n",
        "from google.colab import drive"
      ],
      "metadata": {
        "id": "yf0SZAHMA7I_"
      },
      "execution_count": 45,
      "outputs": []
    },
    {
      "cell_type": "code",
      "source": [
        "# Function to mount Google Drive and select a folder\n",
        "def choose_folder_colab():\n",
        "    drive.mount('/content/drive')\n",
        "    drive_folder = \"/content/drive/MyDrive/\"\n",
        "    contents = os.listdir(drive_folder)\n",
        "\n",
        "    print(\"Contents of your Google Drive:\")\n",
        "    for i, item in enumerate(contents):\n",
        "        print(f\"{i + 1}: {item}\")\n",
        "\n",
        "    while True:\n",
        "        choice = input(\"Enter the number of the folder you want to select (q to quit): \")\n",
        "        if choice.lower() == 'q':\n",
        "            return None\n",
        "        try:\n",
        "            choice = int(choice)\n",
        "            if 1 <= choice <= len(contents):\n",
        "                selected_folder = os.path.join(drive_folder, contents[choice - 1])\n",
        "                return selected_folder\n",
        "            else:\n",
        "                print(\"Invalid choice. Please try again or enter 'q' to quit.\")\n",
        "        except (ValueError, KeyboardInterrupt):\n",
        "            print(\"Invalid input. Please try again or enter 'q' to quit.\")"
      ],
      "metadata": {
        "id": "WLichEdNA-9P"
      },
      "execution_count": 46,
      "outputs": []
    },
    {
      "cell_type": "code",
      "source": [
        "def choose_image_index(path_output):\n",
        "    splitted_images = [filename for filename in os.listdir(path_output) if filename.endswith(\".tif\")]\n",
        "\n",
        "    print(\"Splitted images in the output folder:\")\n",
        "    for i, item in enumerate(splitted_images):\n",
        "        print(f\"{i + 1}: {item}\")\n",
        "\n",
        "    try:\n",
        "        choice = int(input(\"Enter the index of the splitted image you want to process (q to quit): \"))\n",
        "        if choice == 'q':\n",
        "            return None\n",
        "        if 1 <= choice <= len(splitted_images):\n",
        "            selected_image = splitted_images[choice - 1]\n",
        "            return choice, selected_image  # Return the selected index and image name\n",
        "        else:\n",
        "            print(\"Invalid choice. Exiting.\")\n",
        "            return None\n",
        "    except (ValueError, KeyboardInterrupt):\n",
        "        if choice.lower() == 'q':\n",
        "            return None\n",
        "        print(\"Invalid input. Exiting.\")\n",
        "        return None"
      ],
      "metadata": {
        "id": "mptdJrixBDxq"
      },
      "execution_count": 47,
      "outputs": []
    },
    {
      "cell_type": "code",
      "source": [
        "# Function to create folders for masks\n",
        "def create_mask_folders(path_output):\n",
        "    nuclear_mask_folder = os.path.join(path_output, \"nuclear masks\")\n",
        "    cellular_mask_folder = os.path.join(path_output, \"cellular masks\")\n",
        "\n",
        "    os.makedirs(nuclear_mask_folder, exist_ok=True)\n",
        "    os.makedirs(cellular_mask_folder, exist_ok=True)\n",
        "\n",
        "    return nuclear_mask_folder, cellular_mask_folder"
      ],
      "metadata": {
        "id": "Tt4UvVgdBIpG"
      },
      "execution_count": 48,
      "outputs": []
    },
    {
      "cell_type": "code",
      "source": [
        "# Function to process a selected image\n",
        "def process_tiff_image(path_output, dapi_channel_name, smfish_channel_name, selected_image_index):\n",
        "    # Construct the full path to the image file within the specified folder\n",
        "    dapi_path = os.path.join(path_output, dapi_channel_name)\n",
        "    smfish_path = os.path.join(path_output, smfish_channel_name)\n",
        "\n",
        "    # Check if the image files exist before processing\n",
        "    if not os.path.exists(dapi_path) or not os.path.exists(smfish_path):\n",
        "        print(f\"Image files not found in the specified folder.\")\n",
        "        return\n",
        "\n",
        "    # Read DAPI and smFISH images\n",
        "    dapi_3d = stack.read_image(dapi_path)\n",
        "    dapi = stack.mean_projection(dapi_3d)\n",
        "    smfish_3d = stack.read_image(smfish_path)\n",
        "    smfish = stack.mean_projection(smfish_3d)\n",
        "\n",
        "    # Process the images to obtain nuclear and cellular masks\n",
        "    nuc_label, cell_label = extract_nuclear_mask_and_segment_cells(dapi, smfish)\n",
        "\n",
        "    # Construct the full paths to save the masks in the \"output\" folder\n",
        "    nuc_masks_folder = os.path.join(path_output, \"nuclear masks\")\n",
        "    cell_masks_folder = os.path.join(path_output, \"cellular masks\")\n",
        "\n",
        "    os.makedirs(nuc_masks_folder, exist_ok=True)\n",
        "    os.makedirs(cell_masks_folder, exist_ok=True)\n",
        "\n",
        "    # Define the names for the nuclear and cellular masks\n",
        "    nuc_mask_name = f\"nuclear_mask_{selected_image_index}.tif\"\n",
        "    cell_mask_name = f\"cellular_mask_{selected_image_index}.tif\"\n",
        "\n",
        "    # Construct the full paths to save the masks in their respective folders\n",
        "    nuc_mask_path = os.path.join(nuc_masks_folder, nuc_mask_name)\n",
        "    cell_mask_path = os.path.join(cell_masks_folder, cell_mask_name)\n",
        "\n",
        "    # Save the masks in the respective folders\n",
        "    stack.save_image(nuc_label, nuc_mask_path)\n",
        "    stack.save_image(cell_label, cell_mask_path)\n",
        "\n",
        "    print(f\"Processed image: {dapi_channel_name}\")\n",
        "    print(f\"Saved nuclear mask as {nuc_mask_path}\")\n",
        "    print(f\"Saved cellular mask as {cell_mask_path}\")\n"
      ],
      "metadata": {
        "id": "Rr9mj2JCDAm9"
      },
      "execution_count": 53,
      "outputs": []
    },
    {
      "cell_type": "code",
      "source": [
        "# Function to extract nuclear mask and segment cells\n",
        "def extract_nuclear_mask_and_segment_cells(dapi, smfish):\n",
        "    # Your existing code for nuclear mask and cell segmentation\n",
        "    nuc_mask = segmentation.thresholding(dapi, threshold=300)\n",
        "    nuc_mask = segmentation.clean_segmentation(nuc_mask, small_object_size=100, fill_holes=True)\n",
        "    nuc_label = segmentation.label_instances(nuc_mask)\n",
        "    cell_label = segmentation.cell_watershed(smfish, nuc_label, threshold=60, alpha=0.9)\n",
        "    nuc_label = segmentation.clean_segmentation(nuc_label, delimit_instance=True)\n",
        "    cell_label = segmentation.clean_segmentation(cell_label, smoothness=7, delimit_instance=True)\n",
        "    nuc_label, cell_label = multistack.match_nuc_cell(nuc_label, cell_label, single_nuc=False, cell_alone=True)\n",
        "    return nuc_label, cell_label\n",
        "\n",
        "if __name__ == \"__main__\":\n",
        "    while True:\n",
        "        path_input = choose_folder_colab()\n",
        "\n",
        "        if path_input is None:\n",
        "            break  # Exit the loop if 'q' is entered\n",
        "\n",
        "        print(f\"Selected folder: {path_input}\")\n",
        "\n",
        "        # Check if the selected folder has an \"output\" subfolder\n",
        "        path_output = os.path.join(path_input, \"output\")\n",
        "\n",
        "        if os.path.exists(path_output):\n",
        "            image_index = choose_image_index(path_output)\n",
        "\n",
        "        if image_index is None:\n",
        "            break  # Exit the loop if 'q' is entered\n",
        "\n",
        "        selected_index, selected_image = image_index  # Unpack the tuple\n",
        "        if \"_C1.tif\" in selected_image:\n",
        "            dapi_channel_name = selected_image\n",
        "            smfish_channel_name = selected_image.replace(\"_C1.tif\", \"_C2.tif\")\n",
        "        else:\n",
        "            smfish_channel_name = selected_image\n",
        "            dapi_channel_name = selected_image.replace(\"_C2.tif\", \"_C1.tif\")\n",
        "\n",
        "        process_tiff_image(path_output, dapi_channel_name, smfish_channel_name, selected_index)\n",
        "\n",
        "\n"
      ],
      "metadata": {
        "colab": {
          "base_uri": "https://localhost:8080/"
        },
        "id": "uOstb2ug-SJX",
        "outputId": "7a85c29c-1ad5-4af9-f43f-747636ccd35c"
      },
      "execution_count": 54,
      "outputs": [
        {
          "name": "stdout",
          "output_type": "stream",
          "text": [
            "Drive already mounted at /content/drive; to attempt to forcibly remount, call drive.mount(\"/content/drive\", force_remount=True).\n",
            "Contents of your Google Drive:\n",
            "1: CV - D_Mitsea.pdf\n",
            "2: Colab Notebooks\n",
            "3: rf_final(1).ipynb\n",
            "4: Random Forest 7_05.ipynb\n",
            "5: Classroom\n",
            "6: split channels.ijm\n",
            "7: NOTEBOOK_6.cell extraction.ipynb\n",
            "8: CPTH2\n",
            "9: 5-AZA\n",
            "10: DMSO\n",
            "11: FULV\n",
            "12: experiment_1_dapi_fov_1.tif\n",
            "13: experiment_1_smfish_fov_1.tif\n",
            "14: example_nuc_full.tif\n",
            "15: example_cell_full.tif\n",
            "Enter the number of the folder you want to select (q to quit): 8\n",
            "Selected folder: /content/drive/MyDrive/CPTH2\n",
            "Splitted images in the output folder:\n",
            "1: MCF7_AREG_CPTH2_501.tif_C1.tif\n",
            "2: MCF7_AREG_CPTH2_501.tif_C2.tif\n",
            "3: MCF7_AREG_CPTH2_502.tif_C1.tif\n",
            "4: MCF7_AREG_CPTH2_502.tif_C2.tif\n",
            "5: MCF7_AREG_CPTH2_503.tif_C1.tif\n",
            "6: MCF7_AREG_CPTH2_503.tif_C2.tif\n",
            "7: MCF7_AREG_CPTH2_504.tif_C1.tif\n",
            "8: MCF7_AREG_CPTH2_504.tif_C2.tif\n",
            "9: MCF7_AREG_CPTH2_505.tif_C1.tif\n",
            "10: MCF7_AREG_CPTH2_505.tif_C2.tif\n",
            "11: MCF7_AREG_CPTH2_506 (1).tif_C1.tif\n",
            "12: MCF7_AREG_CPTH2_506 (1).tif_C2.tif\n",
            "13: MCF7_AREG_CPTH2_508.tif_C1.tif\n",
            "14: MCF7_AREG_CPTH2_508.tif_C2.tif\n",
            "15: MCF7_AREG_CPTH2_507.tif_C1.tif\n",
            "16: MCF7_AREG_CPTH2_507.tif_C2.tif\n",
            "17: MCF7_AREG_CPTH2_509.tif_C1.tif\n",
            "18: MCF7_AREG_CPTH2_509.tif_C2.tif\n",
            "19: MCF7_AREG_CPTH2_511.tif_C1.tif\n",
            "20: MCF7_AREG_CPTH2_511.tif_C2.tif\n",
            "21: MCF7_AREG_CPTH2_510.tif_C1.tif\n",
            "22: MCF7_AREG_CPTH2_510.tif_C2.tif\n",
            "23: MCF7_AREG_CPTH2_514.tif_C1.tif\n",
            "24: MCF7_AREG_CPTH2_514.tif_C2.tif\n",
            "25: MCF7_AREG_CPTH2_513.tif_C1.tif\n",
            "26: MCF7_AREG_CPTH2_513.tif_C2.tif\n",
            "27: MCF7_AREG_CPTH2_512.tif_C1.tif\n",
            "28: MCF7_AREG_CPTH2_512.tif_C2.tif\n",
            "29: MCF7_AREG_CPTH2_516.tif_C1.tif\n",
            "30: MCF7_AREG_CPTH2_516.tif_C2.tif\n",
            "31: MCF7_AREG_CPTH2_517.tif_C1.tif\n",
            "32: MCF7_AREG_CPTH2_517.tif_C2.tif\n",
            "33: MCF7_AREG_CPTH2_515.tif_C1.tif\n",
            "34: MCF7_AREG_CPTH2_515.tif_C2.tif\n",
            "35: MCF7_AREG_CPTH2_520.tif_C1.tif\n",
            "36: MCF7_AREG_CPTH2_520.tif_C2.tif\n",
            "37: MCF7_AREG_CPTH2_519.tif_C1.tif\n",
            "38: MCF7_AREG_CPTH2_519.tif_C2.tif\n",
            "39: MCF7_AREG_CPTH2_518.tif_C1.tif\n",
            "40: MCF7_AREG_CPTH2_518.tif_C2.tif\n",
            "41: MCF7_AREG_CPTH2_522.tif_C1.tif\n",
            "42: MCF7_AREG_CPTH2_522.tif_C2.tif\n",
            "43: MCF7_AREG_CPTH2_521.tif_C1.tif\n",
            "44: MCF7_AREG_CPTH2_521.tif_C2.tif\n",
            "45: MCF7_AREG_CPTH2_525.tif_C1.tif\n",
            "46: MCF7_AREG_CPTH2_525.tif_C2.tif\n",
            "47: MCF7_AREG_CPTH2_524.tif_C1.tif\n",
            "48: MCF7_AREG_CPTH2_524.tif_C2.tif\n",
            "49: MCF7_AREG_CPTH2_523.tif_C1.tif\n",
            "50: MCF7_AREG_CPTH2_523.tif_C2.tif\n",
            "51: nuc_label.tif\n",
            "52: cell_label.tif\n",
            "53: nuc_label_trial.tif\n",
            "54: cell_label_trial.tif\n",
            "Enter the index of the splitted image you want to process (q to quit): 2\n",
            "Processed image: MCF7_AREG_CPTH2_501.tif_C1.tif\n",
            "Saved nuclear mask as /content/drive/MyDrive/CPTH2/output/nuclear masks/nuclear_mask_2.tif\n",
            "Saved cellular mask as /content/drive/MyDrive/CPTH2/output/cellular masks/cellular_mask_2.tif\n",
            "Drive already mounted at /content/drive; to attempt to forcibly remount, call drive.mount(\"/content/drive\", force_remount=True).\n",
            "Contents of your Google Drive:\n",
            "1: CV - D_Mitsea.pdf\n",
            "2: Colab Notebooks\n",
            "3: rf_final(1).ipynb\n",
            "4: Random Forest 7_05.ipynb\n",
            "5: Classroom\n",
            "6: split channels.ijm\n",
            "7: NOTEBOOK_6.cell extraction.ipynb\n",
            "8: CPTH2\n",
            "9: 5-AZA\n",
            "10: DMSO\n",
            "11: FULV\n",
            "12: experiment_1_dapi_fov_1.tif\n",
            "13: experiment_1_smfish_fov_1.tif\n",
            "14: example_nuc_full.tif\n",
            "15: example_cell_full.tif\n",
            "Enter the number of the folder you want to select (q to quit): q\n"
          ]
        }
      ]
    }
  ]
}